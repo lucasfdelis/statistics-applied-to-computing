{
 "cells": [
  {
   "cell_type": "markdown",
   "metadata": {},
   "source": [
    "# Projeto 2: Análise Exploratória do Email Pessoal\n",
    "\n",
    "*Baseado no código do capítulo 3 do livro \"Hands on Exploratory Data Analysis with Python\", com os códigos disponíveis no [github](https://github.com/PacktPublishing/Hands-on-Exploratory-Data-Analysis-with-Python)*.\n",
    "\n",
    "#### Objetivo: extrair e pre-processar dados do email pessoal do gmail, para responder perguntas sobre os dados obtidos"
   ]
  },
  {
   "cell_type": "markdown",
   "metadata": {},
   "source": [
    "# Lucas Alves Fidelis Araújo"
   ]
  },
  {
   "cell_type": "markdown",
   "metadata": {},
   "source": [
    "## Pré processamento dos dados do Email:"
   ]
  },
  {
   "cell_type": "code",
   "execution_count": 1,
   "metadata": {},
   "outputs": [],
   "source": [
    "import pandas as pd\n",
    "import mailbox"
   ]
  },
  {
   "cell_type": "markdown",
   "metadata": {},
   "source": [
    "Utilizei o modelo que o professor disponibilizou no Presencial."
   ]
  },
  {
   "cell_type": "code",
   "execution_count": 2,
   "metadata": {},
   "outputs": [],
   "source": [
    "mbox = mailbox.mbox('Caixa de entrada.mbox')"
   ]
  },
  {
   "cell_type": "markdown",
   "metadata": {},
   "source": [
    "OBS: Esta função abaixo serve para formatar o arquivo .mbox, que originalmente veio com alguns erros na hora de exibir os textos das mensagens, não reconhecendo palavras com qualquer tipo de acento e deixando elas ilegíveis, e posteriormente atrapalhando a exibição da nuvem de palavras no fim da atividade. \n",
    "\n",
    "É importante salientar que eu não fiz essa função, ela está disponível no [Stackoverflow](https://stackoverflow.com/questions/60424619/convert-encoded-strings-to-normal-printable-characters), apenas fiz algumas modificações nela, como por exemplo substituir os underlines (que separavam as palavras) por espaços, para facilitar a exibição dos dados na nuvem de palavras."
   ]
  },
  {
   "cell_type": "code",
   "execution_count": 3,
   "metadata": {},
   "outputs": [],
   "source": [
    "import os, time\n",
    "import base64, quopri\n",
    "\n",
    "def bdecode(s):\n",
    "    \"\"\"\n",
    "    Convert UTF-8 Base64 or Quoted Printable strings to str\n",
    "    \"\"\"\n",
    "    outstr = \"\"\n",
    "    if s is None:\n",
    "        return outstr\n",
    "    for ss in str(s).splitlines():   # split multiline strings\n",
    "        sss = ss.strip()\n",
    "        for sssp in str(sss).split(' '):   # split multiple strings\n",
    "            if sssp.upper().startswith('=?UTF-8?B?'):\n",
    "                bbb = base64.b64decode(sssp[10:-2])\n",
    "                outstr+=bbb.decode(\"utf-8\")\n",
    "            elif sssp.upper().startswith('=?UTF-8?Q?'):\n",
    "                bbb = quopri.decodestring(sssp[10:-2])\n",
    "                outstr+=bbb.decode(\"utf-8\")\n",
    "            else:\n",
    "                outstr+=sssp\n",
    "    return outstr.replace('_',' ')"
   ]
  },
  {
   "cell_type": "code",
   "execution_count": 4,
   "metadata": {},
   "outputs": [],
   "source": [
    "import csv\n",
    "\n",
    "with open('emails.csv', 'w',  encoding=\"utf-8\") as outputfile:\n",
    "  writer = csv.writer(outputfile)\n",
    "  writer.writerow(['subject','from','date','to',\n",
    "                   'label','thread'])\n",
    "    \n",
    "  for message in mbox:\n",
    "    subject = message['subject']\n",
    "    writer.writerow([bdecode(subject), message['from'],  \n",
    "                     message['date'], message['to'],  \n",
    "                     message['X-Gmail-Labels'], message['X-GM-THRID']])"
   ]
  },
  {
   "cell_type": "code",
   "execution_count": 5,
   "metadata": {},
   "outputs": [],
   "source": [
    "df = pd.read_csv('emails.csv')"
   ]
  },
  {
   "cell_type": "code",
   "execution_count": 6,
   "metadata": {},
   "outputs": [],
   "source": [
    "df['date'] = df['date'].apply(lambda x: pd.to_datetime(x, \n",
    "                                                       errors='coerce', \n",
    "                                                       utc=True))"
   ]
  },
  {
   "cell_type": "code",
   "execution_count": 7,
   "metadata": {},
   "outputs": [],
   "source": [
    "import re"
   ]
  },
  {
   "cell_type": "code",
   "execution_count": 8,
   "metadata": {},
   "outputs": [],
   "source": [
    "def extracao_email(string):\n",
    "  email = re.findall(r'<(.+?)>', string) #aqui está a expressão regular\n",
    "  if not email:\n",
    "    email = list(filter(lambda y: '@' in y, string.split()))\n",
    "  return email[0] if email else np.nan #se tiver email, ok; senão, retorna nan."
   ]
  },
  {
   "cell_type": "code",
   "execution_count": 9,
   "metadata": {},
   "outputs": [],
   "source": [
    "df['from'] = df['from'].apply(lambda x: extracao_email(x))"
   ]
  },
  {
   "cell_type": "code",
   "execution_count": 10,
   "metadata": {},
   "outputs": [],
   "source": [
    "df['label'] = df['from'].apply(lambda x: \n",
    "                               'enviado' if x=='lukinhas.la780@gmail.com' else 'inbox')"
   ]
  },
  {
   "cell_type": "code",
   "execution_count": 11,
   "metadata": {},
   "outputs": [],
   "source": [
    "import datetime\n",
    "import pytz"
   ]
  },
  {
   "cell_type": "code",
   "execution_count": 12,
   "metadata": {},
   "outputs": [],
   "source": [
    "def ref_timezone(x): return x.astimezone(pytz.timezone('America/Recife'))"
   ]
  },
  {
   "cell_type": "code",
   "execution_count": 13,
   "metadata": {},
   "outputs": [],
   "source": [
    "df.dropna(inplace=True)"
   ]
  },
  {
   "cell_type": "code",
   "execution_count": 14,
   "metadata": {},
   "outputs": [],
   "source": [
    "df['dayofweek'] = df['date'].apply(lambda x: x.day_name())"
   ]
  },
  {
   "cell_type": "code",
   "execution_count": 15,
   "metadata": {},
   "outputs": [],
   "source": [
    "df['dayofweek'] = pd.Categorical(df['dayofweek'], categories=[\n",
    "    'Monday', 'Tuesday', 'Wednesday', 'Thursday', 'Friday',\n",
    "    'Saturday', 'Sunday'], ordered=True)"
   ]
  },
  {
   "cell_type": "code",
   "execution_count": 16,
   "metadata": {},
   "outputs": [],
   "source": [
    "df['timeofday'] = df['date'].apply(lambda x: x.hour)"
   ]
  },
  {
   "cell_type": "code",
   "execution_count": 17,
   "metadata": {},
   "outputs": [],
   "source": [
    "df['year'] = df['date'].apply(lambda x: x.year)"
   ]
  },
  {
   "cell_type": "code",
   "execution_count": 18,
   "metadata": {},
   "outputs": [],
   "source": [
    "df['month'] = df['date'].apply(lambda x: x.month_name())"
   ]
  },
  {
   "cell_type": "code",
   "execution_count": 19,
   "metadata": {},
   "outputs": [],
   "source": [
    "df['month'] = pd.Categorical(df['month'], categories=[\n",
    "    'January', 'February', 'March', 'April', 'May', 'June', 'July',\n",
    "    'September', 'October', 'November', 'December'], ordered=True)"
   ]
  },
  {
   "cell_type": "code",
   "execution_count": 20,
   "metadata": {},
   "outputs": [],
   "source": [
    "df['day'] = df['date'].apply(lambda x: x.day)"
   ]
  },
  {
   "cell_type": "code",
   "execution_count": 21,
   "metadata": {},
   "outputs": [],
   "source": [
    "df['data_contraria'] = df[\"date\"].apply( lambda df : \n",
    "datetime.datetime(year=df.year, month=df.month, day=df.day))\n",
    "df.set_index(df[\"data_contraria\"],inplace=True)"
   ]
  },
  {
   "cell_type": "code",
   "execution_count": 22,
   "metadata": {},
   "outputs": [],
   "source": [
    "df.to_csv('emails_processados.csv')"
   ]
  },
  {
   "cell_type": "markdown",
   "metadata": {},
   "source": [
    "## 1. Quantos emails foram mandados por semana, por mês e por ano, considerando a janela de tempo dos dados baixados?"
   ]
  },
  {
   "cell_type": "markdown",
   "metadata": {},
   "source": [
    "##### Emails enviados por semana:"
   ]
  },
  {
   "cell_type": "markdown",
   "metadata": {},
   "source": [
    "Lista com o número de emails:"
   ]
  },
  {
   "cell_type": "code",
   "execution_count": 23,
   "metadata": {
    "scrolled": true
   },
   "outputs": [
    {
     "data": {
      "text/html": [
       "<div>\n",
       "<style scoped>\n",
       "    .dataframe tbody tr th:only-of-type {\n",
       "        vertical-align: middle;\n",
       "    }\n",
       "\n",
       "    .dataframe tbody tr th {\n",
       "        vertical-align: top;\n",
       "    }\n",
       "\n",
       "    .dataframe thead th {\n",
       "        text-align: right;\n",
       "    }\n",
       "</style>\n",
       "<table border=\"1\" class=\"dataframe\">\n",
       "  <thead>\n",
       "    <tr style=\"text-align: right;\">\n",
       "      <th></th>\n",
       "      <th>Emails por semana</th>\n",
       "    </tr>\n",
       "  </thead>\n",
       "  <tbody>\n",
       "    <tr>\n",
       "      <th>1</th>\n",
       "      <td>235</td>\n",
       "    </tr>\n",
       "    <tr>\n",
       "      <th>2</th>\n",
       "      <td>305</td>\n",
       "    </tr>\n",
       "    <tr>\n",
       "      <th>3</th>\n",
       "      <td>280</td>\n",
       "    </tr>\n",
       "    <tr>\n",
       "      <th>4</th>\n",
       "      <td>270</td>\n",
       "    </tr>\n",
       "    <tr>\n",
       "      <th>5</th>\n",
       "      <td>289</td>\n",
       "    </tr>\n",
       "    <tr>\n",
       "      <th>6</th>\n",
       "      <td>293</td>\n",
       "    </tr>\n",
       "    <tr>\n",
       "      <th>7</th>\n",
       "      <td>310</td>\n",
       "    </tr>\n",
       "    <tr>\n",
       "      <th>8</th>\n",
       "      <td>315</td>\n",
       "    </tr>\n",
       "    <tr>\n",
       "      <th>9</th>\n",
       "      <td>293</td>\n",
       "    </tr>\n",
       "    <tr>\n",
       "      <th>10</th>\n",
       "      <td>311</td>\n",
       "    </tr>\n",
       "    <tr>\n",
       "      <th>11</th>\n",
       "      <td>297</td>\n",
       "    </tr>\n",
       "    <tr>\n",
       "      <th>12</th>\n",
       "      <td>288</td>\n",
       "    </tr>\n",
       "    <tr>\n",
       "      <th>13</th>\n",
       "      <td>390</td>\n",
       "    </tr>\n",
       "    <tr>\n",
       "      <th>14</th>\n",
       "      <td>417</td>\n",
       "    </tr>\n",
       "    <tr>\n",
       "      <th>15</th>\n",
       "      <td>330</td>\n",
       "    </tr>\n",
       "    <tr>\n",
       "      <th>16</th>\n",
       "      <td>326</td>\n",
       "    </tr>\n",
       "    <tr>\n",
       "      <th>17</th>\n",
       "      <td>396</td>\n",
       "    </tr>\n",
       "    <tr>\n",
       "      <th>18</th>\n",
       "      <td>353</td>\n",
       "    </tr>\n",
       "    <tr>\n",
       "      <th>19</th>\n",
       "      <td>330</td>\n",
       "    </tr>\n",
       "    <tr>\n",
       "      <th>20</th>\n",
       "      <td>359</td>\n",
       "    </tr>\n",
       "    <tr>\n",
       "      <th>21</th>\n",
       "      <td>313</td>\n",
       "    </tr>\n",
       "    <tr>\n",
       "      <th>22</th>\n",
       "      <td>281</td>\n",
       "    </tr>\n",
       "    <tr>\n",
       "      <th>23</th>\n",
       "      <td>340</td>\n",
       "    </tr>\n",
       "    <tr>\n",
       "      <th>24</th>\n",
       "      <td>366</td>\n",
       "    </tr>\n",
       "    <tr>\n",
       "      <th>25</th>\n",
       "      <td>317</td>\n",
       "    </tr>\n",
       "    <tr>\n",
       "      <th>26</th>\n",
       "      <td>339</td>\n",
       "    </tr>\n",
       "    <tr>\n",
       "      <th>27</th>\n",
       "      <td>377</td>\n",
       "    </tr>\n",
       "    <tr>\n",
       "      <th>28</th>\n",
       "      <td>423</td>\n",
       "    </tr>\n",
       "    <tr>\n",
       "      <th>29</th>\n",
       "      <td>292</td>\n",
       "    </tr>\n",
       "    <tr>\n",
       "      <th>30</th>\n",
       "      <td>363</td>\n",
       "    </tr>\n",
       "    <tr>\n",
       "      <th>31</th>\n",
       "      <td>368</td>\n",
       "    </tr>\n",
       "    <tr>\n",
       "      <th>32</th>\n",
       "      <td>338</td>\n",
       "    </tr>\n",
       "    <tr>\n",
       "      <th>33</th>\n",
       "      <td>295</td>\n",
       "    </tr>\n",
       "    <tr>\n",
       "      <th>34</th>\n",
       "      <td>381</td>\n",
       "    </tr>\n",
       "    <tr>\n",
       "      <th>35</th>\n",
       "      <td>368</td>\n",
       "    </tr>\n",
       "    <tr>\n",
       "      <th>36</th>\n",
       "      <td>292</td>\n",
       "    </tr>\n",
       "    <tr>\n",
       "      <th>37</th>\n",
       "      <td>301</td>\n",
       "    </tr>\n",
       "    <tr>\n",
       "      <th>38</th>\n",
       "      <td>306</td>\n",
       "    </tr>\n",
       "    <tr>\n",
       "      <th>39</th>\n",
       "      <td>364</td>\n",
       "    </tr>\n",
       "    <tr>\n",
       "      <th>40</th>\n",
       "      <td>314</td>\n",
       "    </tr>\n",
       "    <tr>\n",
       "      <th>41</th>\n",
       "      <td>261</td>\n",
       "    </tr>\n",
       "    <tr>\n",
       "      <th>42</th>\n",
       "      <td>228</td>\n",
       "    </tr>\n",
       "    <tr>\n",
       "      <th>43</th>\n",
       "      <td>281</td>\n",
       "    </tr>\n",
       "    <tr>\n",
       "      <th>44</th>\n",
       "      <td>273</td>\n",
       "    </tr>\n",
       "    <tr>\n",
       "      <th>45</th>\n",
       "      <td>291</td>\n",
       "    </tr>\n",
       "    <tr>\n",
       "      <th>46</th>\n",
       "      <td>362</td>\n",
       "    </tr>\n",
       "    <tr>\n",
       "      <th>47</th>\n",
       "      <td>322</td>\n",
       "    </tr>\n",
       "    <tr>\n",
       "      <th>48</th>\n",
       "      <td>327</td>\n",
       "    </tr>\n",
       "    <tr>\n",
       "      <th>49</th>\n",
       "      <td>271</td>\n",
       "    </tr>\n",
       "    <tr>\n",
       "      <th>50</th>\n",
       "      <td>320</td>\n",
       "    </tr>\n",
       "    <tr>\n",
       "      <th>51</th>\n",
       "      <td>323</td>\n",
       "    </tr>\n",
       "    <tr>\n",
       "      <th>52</th>\n",
       "      <td>306</td>\n",
       "    </tr>\n",
       "    <tr>\n",
       "      <th>53</th>\n",
       "      <td>48</td>\n",
       "    </tr>\n",
       "  </tbody>\n",
       "</table>\n",
       "</div>"
      ],
      "text/plain": [
       "    Emails por semana\n",
       "1                 235\n",
       "2                 305\n",
       "3                 280\n",
       "4                 270\n",
       "5                 289\n",
       "6                 293\n",
       "7                 310\n",
       "8                 315\n",
       "9                 293\n",
       "10                311\n",
       "11                297\n",
       "12                288\n",
       "13                390\n",
       "14                417\n",
       "15                330\n",
       "16                326\n",
       "17                396\n",
       "18                353\n",
       "19                330\n",
       "20                359\n",
       "21                313\n",
       "22                281\n",
       "23                340\n",
       "24                366\n",
       "25                317\n",
       "26                339\n",
       "27                377\n",
       "28                423\n",
       "29                292\n",
       "30                363\n",
       "31                368\n",
       "32                338\n",
       "33                295\n",
       "34                381\n",
       "35                368\n",
       "36                292\n",
       "37                301\n",
       "38                306\n",
       "39                364\n",
       "40                314\n",
       "41                261\n",
       "42                228\n",
       "43                281\n",
       "44                273\n",
       "45                291\n",
       "46                362\n",
       "47                322\n",
       "48                327\n",
       "49                271\n",
       "50                320\n",
       "51                323\n",
       "52                306\n",
       "53                 48"
      ]
     },
     "execution_count": 23,
     "metadata": {},
     "output_type": "execute_result"
    }
   ],
   "source": [
    "%matplotlib inline\n",
    "df_semana = df['data_contraria'].dt.week.value_counts().sort_index(ascending=True)\n",
    "dados = {'Emails por semana':df_semana}\n",
    "df_semana = pd.DataFrame(dados)\n",
    "df_semana"
   ]
  },
  {
   "cell_type": "markdown",
   "metadata": {},
   "source": [
    "Gráfico:"
   ]
  },
  {
   "cell_type": "code",
   "execution_count": 24,
   "metadata": {},
   "outputs": [
    {
     "data": {
      "text/plain": [
       "<matplotlib.axes._subplots.AxesSubplot at 0x216cafc5e80>"
      ]
     },
     "execution_count": 24,
     "metadata": {},
     "output_type": "execute_result"
    },
    {
     "data": {
      "image/png": "[encoded data removed]",
      "text/plain": [
       "<Figure size 720x720 with 1 Axes>"
      ]
     },
     "metadata": {
      "needs_background": "light"
     },
     "output_type": "display_data"
    }
   ],
   "source": [
    "df_semana.plot.bar(figsize= (10,10))"
   ]
  },
  {
   "cell_type": "markdown",
   "metadata": {},
   "source": [
    "##### Emails enviados por mês:"
   ]
  },
  {
   "cell_type": "markdown",
   "metadata": {},
   "source": [
    "Lista com o número de emails:"
   ]
  },
  {
   "cell_type": "code",
   "execution_count": 25,
   "metadata": {},
   "outputs": [],
   "source": [
    "df_mes = df['data_contraria'].dt.month.value_counts().sort_index(ascending=True)\n",
    "dados = {'Emails por mês':df_mes}\n",
    "df_mes = pd.DataFrame(dados)"
   ]
  },
  {
   "cell_type": "markdown",
   "metadata": {},
   "source": [
    "Gráfico:"
   ]
  },
  {
   "cell_type": "code",
   "execution_count": 26,
   "metadata": {},
   "outputs": [
    {
     "data": {
      "text/plain": [
       "<matplotlib.axes._subplots.AxesSubplot at 0x216caa91630>"
      ]
     },
     "execution_count": 26,
     "metadata": {},
     "output_type": "execute_result"
    },
    {
     "data": {
      "image/png": "[encoded data removed]",
      "text/plain": [
       "<Figure size 720x720 with 1 Axes>"
      ]
     },
     "metadata": {
      "needs_background": "light"
     },
     "output_type": "display_data"
    }
   ],
   "source": [
    "df_mes.plot.bar(figsize= (10,10))"
   ]
  },
  {
   "cell_type": "markdown",
   "metadata": {},
   "source": [
    "##### Emails enviados por ano:"
   ]
  },
  {
   "cell_type": "markdown",
   "metadata": {},
   "source": [
    "Lista com o número de emails:"
   ]
  },
  {
   "cell_type": "code",
   "execution_count": 27,
   "metadata": {},
   "outputs": [],
   "source": [
    "df_ano = df['data_contraria'].dt.year.value_counts().sort_index(ascending=True)\n",
    "dados = {'Emails por ano':df_ano}\n",
    "df_ano = pd.DataFrame(dados)"
   ]
  },
  {
   "cell_type": "markdown",
   "metadata": {},
   "source": [
    "Gráfico:"
   ]
  },
  {
   "cell_type": "code",
   "execution_count": 28,
   "metadata": {},
   "outputs": [
    {
     "data": {
      "text/plain": [
       "<matplotlib.axes._subplots.AxesSubplot at 0x216cb6429e8>"
      ]
     },
     "execution_count": 28,
     "metadata": {},
     "output_type": "execute_result"
    },
    {
     "data": {
      "image/png": "[encoded data removed]",
      "text/plain": [
       "<Figure size 720x720 with 1 Axes>"
      ]
     },
     "metadata": {
      "needs_background": "light"
     },
     "output_type": "display_data"
    }
   ],
   "source": [
    "df_ano.plot.bar(figsize= (10,10))"
   ]
  },
  {
   "cell_type": "markdown",
   "metadata": {},
   "source": [
    "## 2. Há uma variação significativa na quantidade de emails enviados por cada período considerado na questão anterior?"
   ]
  },
  {
   "cell_type": "markdown",
   "metadata": {},
   "source": [
    "Existe. É visto que em outubro ocorre uma queda no número de emails recebidos, e que os meses de Abril e Julho são os meses que eu mais recebo emails.\n",
    "\n",
    "Na análise anual, é visto que o número de emails recebidos aumenta a cada ano (com uma leve queda em 2018), e que só nesse período de 2021, eu já recebi mais emails do que todo o ano de 2014."
   ]
  },
  {
   "cell_type": "markdown",
   "metadata": {},
   "source": [
    "## 3. Existe algum período, dos considerados nas duas questões anteriores, em que o número de emails enviados possa ser considerado um outlier? Você enxerga alguma justificativa para esse período ter esse outlier, caso haja?"
   ]
  },
  {
   "cell_type": "markdown",
   "metadata": {},
   "source": [
    "Não consigo ver algum motivo para a queda de emails recebidos em outubro.\n",
    "\n",
    "Julho geralmente é o mês que eu estou de férias, então eu tenho mais acesso ao meu email, levando ao aumento repentino de emails recebidos.\n",
    "\n",
    "No ano de 2014, recebi apenas 28 emails. Isto se deve ao fato de eu ter perdido o acesso a minha conta naquele ano, conseguindo recuperar ela apenas em 2015.\n",
    "    \n",
    "Em 2019, comecei meu processo de conclusão de curso, pois na época eu fazia o último ano do ensino médio. Então precisei me comunicar muito com os professores por email. Além de que nesse ano, o número de notificações automáticas do Youtube ficou mais frequente, o que influenciou também o ano de 2020."
   ]
  },
  {
   "cell_type": "markdown",
   "metadata": {},
   "source": [
    "## 4. Qual é o número médio de e-mails por hora? Essa média varia ao longo da semana?"
   ]
  },
  {
   "cell_type": "markdown",
   "metadata": {},
   "source": [
    "Para fazer essa questão, escolhi analisar apenas os dados do ano de 2020, visto que seria complicado analisar todos os emails desde 2014. Então, atribuí os emails de 2020 a variável \"df_horas\":"
   ]
  },
  {
   "cell_type": "code",
   "execution_count": 29,
   "metadata": {},
   "outputs": [
    {
     "data": {
      "text/plain": [
       "<matplotlib.axes._subplots.AxesSubplot at 0x216cbe2f438>"
      ]
     },
     "execution_count": 29,
     "metadata": {},
     "output_type": "execute_result"
    },
    {
     "data": {
      "image/png": "[encoded data removed]",
      "text/plain": [
       "<Figure size 720x720 with 1 Axes>"
      ]
     },
     "metadata": {
      "needs_background": "light"
     },
     "output_type": "display_data"
    }
   ],
   "source": [
    "df_horas = df.loc[df['year'] == 2020]\n",
    "emails_hora = df_horas['timeofday'].value_counts().sort_index(ascending=True)\n",
    "emails_hora.plot.bar(figsize= (10,10))"
   ]
  },
  {
   "cell_type": "markdown",
   "metadata": {},
   "source": [
    "Acima, podemos ver o gráfico de números de emails por hora. Percebemos que das 22 horas até as 9 horas o número de emails recebidos caem muito, e aumentam a partir das 10 horas. O número de emails recebidos fica estável das 14 até as 20 horas, e as 21 horas o número de emails recebidos aumenta, totalizando mais de 500 emails recebidos por ano nesse horário.\n",
    "\n"
   ]
  },
  {
   "cell_type": "markdown",
   "metadata": {},
   "source": [
    "Lista com o número de emails recebidos em cada hora:"
   ]
  },
  {
   "cell_type": "code",
   "execution_count": 30,
   "metadata": {},
   "outputs": [
    {
     "data": {
      "text/html": [
       "<div>\n",
       "<style scoped>\n",
       "    .dataframe tbody tr th:only-of-type {\n",
       "        vertical-align: middle;\n",
       "    }\n",
       "\n",
       "    .dataframe tbody tr th {\n",
       "        vertical-align: top;\n",
       "    }\n",
       "\n",
       "    .dataframe thead th {\n",
       "        text-align: right;\n",
       "    }\n",
       "</style>\n",
       "<table border=\"1\" class=\"dataframe\">\n",
       "  <thead>\n",
       "    <tr style=\"text-align: right;\">\n",
       "      <th></th>\n",
       "      <th>Emails por hora</th>\n",
       "    </tr>\n",
       "  </thead>\n",
       "  <tbody>\n",
       "    <tr>\n",
       "      <th>0</th>\n",
       "      <td>162</td>\n",
       "    </tr>\n",
       "    <tr>\n",
       "      <th>1</th>\n",
       "      <td>132</td>\n",
       "    </tr>\n",
       "    <tr>\n",
       "      <th>2</th>\n",
       "      <td>145</td>\n",
       "    </tr>\n",
       "    <tr>\n",
       "      <th>3</th>\n",
       "      <td>82</td>\n",
       "    </tr>\n",
       "    <tr>\n",
       "      <th>4</th>\n",
       "      <td>55</td>\n",
       "    </tr>\n",
       "    <tr>\n",
       "      <th>5</th>\n",
       "      <td>26</td>\n",
       "    </tr>\n",
       "    <tr>\n",
       "      <th>6</th>\n",
       "      <td>43</td>\n",
       "    </tr>\n",
       "    <tr>\n",
       "      <th>7</th>\n",
       "      <td>28</td>\n",
       "    </tr>\n",
       "    <tr>\n",
       "      <th>8</th>\n",
       "      <td>19</td>\n",
       "    </tr>\n",
       "    <tr>\n",
       "      <th>9</th>\n",
       "      <td>29</td>\n",
       "    </tr>\n",
       "    <tr>\n",
       "      <th>10</th>\n",
       "      <td>130</td>\n",
       "    </tr>\n",
       "    <tr>\n",
       "      <th>11</th>\n",
       "      <td>74</td>\n",
       "    </tr>\n",
       "    <tr>\n",
       "      <th>12</th>\n",
       "      <td>118</td>\n",
       "    </tr>\n",
       "    <tr>\n",
       "      <th>13</th>\n",
       "      <td>166</td>\n",
       "    </tr>\n",
       "    <tr>\n",
       "      <th>14</th>\n",
       "      <td>319</td>\n",
       "    </tr>\n",
       "    <tr>\n",
       "      <th>15</th>\n",
       "      <td>317</td>\n",
       "    </tr>\n",
       "    <tr>\n",
       "      <th>16</th>\n",
       "      <td>240</td>\n",
       "    </tr>\n",
       "    <tr>\n",
       "      <th>17</th>\n",
       "      <td>236</td>\n",
       "    </tr>\n",
       "    <tr>\n",
       "      <th>18</th>\n",
       "      <td>286</td>\n",
       "    </tr>\n",
       "    <tr>\n",
       "      <th>19</th>\n",
       "      <td>207</td>\n",
       "    </tr>\n",
       "    <tr>\n",
       "      <th>20</th>\n",
       "      <td>233</td>\n",
       "    </tr>\n",
       "    <tr>\n",
       "      <th>21</th>\n",
       "      <td>563</td>\n",
       "    </tr>\n",
       "    <tr>\n",
       "      <th>22</th>\n",
       "      <td>299</td>\n",
       "    </tr>\n",
       "    <tr>\n",
       "      <th>23</th>\n",
       "      <td>171</td>\n",
       "    </tr>\n",
       "  </tbody>\n",
       "</table>\n",
       "</div>"
      ],
      "text/plain": [
       "    Emails por hora\n",
       "0               162\n",
       "1               132\n",
       "2               145\n",
       "3                82\n",
       "4                55\n",
       "5                26\n",
       "6                43\n",
       "7                28\n",
       "8                19\n",
       "9                29\n",
       "10              130\n",
       "11               74\n",
       "12              118\n",
       "13              166\n",
       "14              319\n",
       "15              317\n",
       "16              240\n",
       "17              236\n",
       "18              286\n",
       "19              207\n",
       "20              233\n",
       "21              563\n",
       "22              299\n",
       "23              171"
      ]
     },
     "execution_count": 30,
     "metadata": {},
     "output_type": "execute_result"
    }
   ],
   "source": [
    "dados = {'Emails por hora': emails_hora}\n",
    "emails_hora = pd.DataFrame(dados)\n",
    "emails_hora"
   ]
  },
  {
   "cell_type": "markdown",
   "metadata": {},
   "source": [
    "Média de emails recebidos por dia e por hora:"
   ]
  },
  {
   "cell_type": "code",
   "execution_count": 31,
   "metadata": {},
   "outputs": [
    {
     "data": {
      "text/plain": [
       "Emails por hora    11.178082\n",
       "dtype: float64"
      ]
     },
     "execution_count": 31,
     "metadata": {},
     "output_type": "execute_result"
    }
   ],
   "source": [
    "total_dia = emails_hora.sum()/365\n",
    "total_dia"
   ]
  },
  {
   "cell_type": "markdown",
   "metadata": {},
   "source": [
    "No ano de 2020, recebemos cerca de 11 emails por dia"
   ]
  },
  {
   "cell_type": "code",
   "execution_count": 32,
   "metadata": {},
   "outputs": [
    {
     "data": {
      "text/plain": [
       "Emails por hora    0.465753\n",
       "dtype: float64"
      ]
     },
     "execution_count": 32,
     "metadata": {},
     "output_type": "execute_result"
    }
   ],
   "source": [
    "total_dia/24"
   ]
  },
  {
   "cell_type": "markdown",
   "metadata": {},
   "source": [
    "Em um dia no ano de 2020, recebemos em média cerca de 0.46 emails por hora. (Menos de 1 email recebido por hora)"
   ]
  },
  {
   "cell_type": "code",
   "execution_count": 33,
   "metadata": {},
   "outputs": [
    {
     "data": {
      "text/plain": [
       "<matplotlib.axes._subplots.AxesSubplot at 0x216cbed7048>"
      ]
     },
     "execution_count": 33,
     "metadata": {},
     "output_type": "execute_result"
    },
    {
     "data": {
      "image/png": "[encoded data removed]",
      "text/plain": [
       "<Figure size 720x720 with 1 Axes>"
      ]
     },
     "metadata": {
      "needs_background": "light"
     },
     "output_type": "display_data"
    }
   ],
   "source": [
    "dias_semana = df_horas['dayofweek'].value_counts().sort_index(ascending=True).plot.bar(figsize= (10,10))\n",
    "dias_semana"
   ]
  },
  {
   "cell_type": "markdown",
   "metadata": {},
   "source": [
    "Pelo gráfico, podemos ver que a média varia sim. O número de emails recebidos é praticamente o mesmo no Sábado, Domingo e Segunda, e aumenta um pouco nos outros dias, com destaque para a Quinta, que é o dia com o maior número de emails recebidos."
   ]
  },
  {
   "cell_type": "markdown",
   "metadata": {},
   "source": [
    "## 5. Com quem me comunico com mais frequência, por meio de emails? Considere tanto por envio, quanto por recepção de emails;"
   ]
  },
  {
   "cell_type": "code",
   "execution_count": 34,
   "metadata": {},
   "outputs": [
    {
     "data": {
      "text/plain": [
       "noreply@youtube.com                8732\n",
       "notify@twitter.com                 2061\n",
       "info@twitter.com                    841\n",
       "contact@mailer.humblebundle.com     792\n",
       "noreply@steampowered.com            383\n",
       "support@indiegala.com               311\n",
       "replyto-795248b@plus.google.com     274\n",
       "verify@twitter.com                  233\n",
       "no-reply@twitch.tv                  167\n",
       "pinbot@explore.pinterest.com        137\n",
       "Name: from, dtype: int64"
      ]
     },
     "execution_count": 34,
     "metadata": {},
     "output_type": "execute_result"
    }
   ],
   "source": [
    "df['from'].value_counts().head(10)"
   ]
  },
  {
   "cell_type": "markdown",
   "metadata": {},
   "source": [
    "Notificações automáticas do Youtube e Twitter lideram a lista."
   ]
  },
  {
   "cell_type": "markdown",
   "metadata": {},
   "source": [
    "## 6. Quais os temas mais comumente tratados nos emails considerados? (para esse caso, considere usar uma nuvem de palavras como gráfico; para saber mais, veja esse tutorial da Sigmoidal, um tutorial do Datacamp e o Python Graph Gallery);"
   ]
  },
  {
   "cell_type": "markdown",
   "metadata": {},
   "source": [
    "Para criar a nuvem de imagens, escolhi seguir o tutorial da Sigmoidal."
   ]
  },
  {
   "cell_type": "code",
   "execution_count": 35,
   "metadata": {},
   "outputs": [],
   "source": [
    "import matplotlib.pyplot as plt\n",
    "from PIL import Image\n",
    "from wordcloud import WordCloud, STOPWORDS, ImageColorGenerator"
   ]
  },
  {
   "cell_type": "code",
   "execution_count": 36,
   "metadata": {},
   "outputs": [
    {
     "data": {
      "image/png": "[encoded data removed]",
      "text/plain": [
       "<Figure size 720x432 with 1 Axes>"
      ]
     },
     "metadata": {
      "needs_background": "light"
     },
     "output_type": "display_data"
    }
   ],
   "source": [
    "def nuvem_imagem(df):\n",
    "    summary = df.dropna(subset=['subject'], axis=0)['subject']\n",
    "\n",
    "    all_summary = \" \".join(s for s in summary)\n",
    "\n",
    "    stopwords = set(STOPWORDS)\n",
    "\n",
    "    # Adicionei algumas palavras que atrapalhavam a exibição da nuvem, deixando apenas os assuntos aparecerem.\n",
    "    stopwords.update([\"da\", \"meu\", \"em\", \"você\", \"de\", \"ao\", \"os\",\"um\",\"uma\",\"enviar\",\"vídeo\",\"enviou\",\"Mensagem\",\"Direta\",\"acabou\",\"está\"])\n",
    "\n",
    "    # gerar uma wordcloud\n",
    "    wordcloud = WordCloud(stopwords=stopwords,\n",
    "                      background_color=\"black\",\n",
    "                      width=1600, height=800).generate(all_summary)\n",
    "\n",
    "    # mostrar a imagem final\n",
    "    fig, ax = plt.subplots(figsize=(10,6))\n",
    "    ax.imshow(wordcloud, interpolation='bilinear')\n",
    "    ax.set_axis_off()\n",
    "\n",
    "    plt.imshow(wordcloud);\n",
    "    wordcloud.to_file(\"wordcloud.png\")\n",
    "    \n",
    "nuvem_imagem(df)"
   ]
  },
  {
   "cell_type": "markdown",
   "metadata": {},
   "source": [
    "Nessa imagem, podemos ver os temas que mais aparecem no meu email desde o ano de 2014. Temos a ocorrencia da frase \"Velocidade Alta\", que é um canal do Youtube que eu gostava muito de assistir até um tempo atrás, e do nome \"Formula\", referente a notificações da Newsletter da Formula 1. Temos também a presença do nome de outros canais, como Auto Super, Netflix Brasil, Nerdologia, Willzy, etc. Isso se deve ao fato da maioria dos emails que eu recebi serem notificações do Youtube.\n",
    "\n",
    "Eu também recebo notificações de conversas do meu Twitter, o que leva a aparição do nome \"Clapitu\". O username de um grande amigo que eu conheci um tempo atrás, e que fala comigo através dessa rede social."
   ]
  },
  {
   "cell_type": "markdown",
   "metadata": {},
   "source": [
    "## 7. Crie e responda mais duas perguntas relacionadas aos dados obtidos. Seja criativo!"
   ]
  },
  {
   "cell_type": "markdown",
   "metadata": {},
   "source": [
    "### Pergunta 1: Quantos emails automáticos o Youtube me enviou por ano?"
   ]
  },
  {
   "cell_type": "code",
   "execution_count": 37,
   "metadata": {},
   "outputs": [],
   "source": [
    "# Criando dataframe apenas com os emails do Youtube\n",
    "df_youtube = df.loc[df['from'] == 'noreply@youtube.com']"
   ]
  },
  {
   "cell_type": "code",
   "execution_count": 38,
   "metadata": {},
   "outputs": [
    {
     "data": {
      "text/html": [
       "<div>\n",
       "<style scoped>\n",
       "    .dataframe tbody tr th:only-of-type {\n",
       "        vertical-align: middle;\n",
       "    }\n",
       "\n",
       "    .dataframe tbody tr th {\n",
       "        vertical-align: top;\n",
       "    }\n",
       "\n",
       "    .dataframe thead th {\n",
       "        text-align: right;\n",
       "    }\n",
       "</style>\n",
       "<table border=\"1\" class=\"dataframe\">\n",
       "  <thead>\n",
       "    <tr style=\"text-align: right;\">\n",
       "      <th></th>\n",
       "      <th>Emails por ano</th>\n",
       "    </tr>\n",
       "  </thead>\n",
       "  <tbody>\n",
       "    <tr>\n",
       "      <th>2015</th>\n",
       "      <td>478</td>\n",
       "    </tr>\n",
       "    <tr>\n",
       "      <th>2016</th>\n",
       "      <td>1240</td>\n",
       "    </tr>\n",
       "    <tr>\n",
       "      <th>2017</th>\n",
       "      <td>1426</td>\n",
       "    </tr>\n",
       "    <tr>\n",
       "      <th>2018</th>\n",
       "      <td>1575</td>\n",
       "    </tr>\n",
       "    <tr>\n",
       "      <th>2019</th>\n",
       "      <td>2189</td>\n",
       "    </tr>\n",
       "    <tr>\n",
       "      <th>2020</th>\n",
       "      <td>1816</td>\n",
       "    </tr>\n",
       "    <tr>\n",
       "      <th>2021</th>\n",
       "      <td>8</td>\n",
       "    </tr>\n",
       "  </tbody>\n",
       "</table>\n",
       "</div>"
      ],
      "text/plain": [
       "      Emails por ano\n",
       "2015             478\n",
       "2016            1240\n",
       "2017            1426\n",
       "2018            1575\n",
       "2019            2189\n",
       "2020            1816\n",
       "2021               8"
      ]
     },
     "execution_count": 38,
     "metadata": {},
     "output_type": "execute_result"
    }
   ],
   "source": [
    "#Criando dataframe apenas com a contagem de emails enviados pelo Youtube.\n",
    "df_youtube = df_youtube['data_contraria'].dt.year.value_counts().sort_index(ascending=True)\n",
    "dados = {'Emails por ano':df_youtube}\n",
    "df_youtube = pd.DataFrame(dados)\n",
    "df_youtube"
   ]
  },
  {
   "cell_type": "code",
   "execution_count": 39,
   "metadata": {},
   "outputs": [
    {
     "data": {
      "text/plain": [
       "<matplotlib.axes._subplots.AxesSubplot at 0x216cd1d4b38>"
      ]
     },
     "execution_count": 39,
     "metadata": {},
     "output_type": "execute_result"
    },
    {
     "data": {
      "image/png": "[encoded data removed]",
      "text/plain": [
       "<Figure size 720x720 with 1 Axes>"
      ]
     },
     "metadata": {
      "needs_background": "light"
     },
     "output_type": "display_data"
    }
   ],
   "source": [
    "df_youtube.plot.bar(figsize= (10,10))"
   ]
  },
  {
   "cell_type": "markdown",
   "metadata": {},
   "source": [
    "Antes da análise, achei que 2020 seria o ano com o maior número de emails, devido a pandemia e ao tempo que utilizei o Youtube nesse tempo. Mas para minha surpresa, o ano de 2019 foi o ano com o maior número, ultrapassando 2000 emails automáticos nesse período."
   ]
  },
  {
   "cell_type": "markdown",
   "metadata": {},
   "source": [
    "### Pergunta 2: Quais foram os assuntos principais do email no ano de 2015?"
   ]
  },
  {
   "cell_type": "markdown",
   "metadata": {},
   "source": [
    "Escolhi esse ano pois foi uma época que eu era bem ativo na internet, mesmo com o número de emails mais baixo comparado com os outros anos (esse número mais alto nos outros anos também pode ser atribuído a grande quantidade de emails automáticos que eu recebo, o que não era muito comum em 2015), então acredito que os emails recebidos são mais \"equivalentes\" ao que eu acessava na época."
   ]
  },
  {
   "cell_type": "code",
   "execution_count": 40,
   "metadata": {},
   "outputs": [
    {
     "data": {
      "text/plain": [
       "noreply@youtube.com                               478\n",
       "notifications@disqus.net                           63\n",
       "replyto-795248b@plus.google.com                    29\n",
       "account-security-noreply@account.microsoft.com     11\n",
       "KoGaMa                                             10\n",
       "lukinhas.la780@gmail.com                            9\n",
       "noreply-795248b@plus.google.com                     9\n",
       "billing.pt@clubpenguin.com                          9\n",
       "support@disneyinteractivegames.com                  8\n",
       "support.pt@clubpenguin.com                          7\n",
       "Name: from, dtype: int64"
      ]
     },
     "execution_count": 40,
     "metadata": {},
     "output_type": "execute_result"
    }
   ],
   "source": [
    "df_2015 = df.loc[df['year'] == 2015]\n",
    "df_2015['from'].value_counts().head(10)"
   ]
  },
  {
   "cell_type": "markdown",
   "metadata": {},
   "source": [
    "As notificações automáticas do Youtube estão em primeiro lugar, e em seguida podemos ver as notificações do Disqus, que era uma plataforma de comentários que eu utilizava muito. Podemos também ver o \"KoGaMa\", que é um jogo que eu gostava muito de acessar, assim como notificações do \"Club Penguin\".\n",
    "\n",
    "Também tem alguns emails do Google Plus, visto que eu costumava usar ele na época (RIP)"
   ]
  }
 ],
 "metadata": {
  "kernelspec": {
   "display_name": "Python 3",
   "language": "python",
   "name": "python3"
  },
  "language_info": {
   "codemirror_mode": {
    "name": "ipython",
    "version": 3
   },
   "file_extension": ".py",
   "mimetype": "text/x-python",
   "name": "python",
   "nbconvert_exporter": "python",
   "pygments_lexer": "ipython3",
   "version": "3.7.0"
  }
 },
 "nbformat": 4,
 "nbformat_minor": 2
}
