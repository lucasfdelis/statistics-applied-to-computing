{
 "cells": [
  {
   "cell_type": "markdown",
   "metadata": {},
   "source": [
    "# Lucas Alves Fidelis Araújo - Estatística"
   ]
  },
  {
   "cell_type": "markdown",
   "metadata": {},
   "source": [
    "## Questão 1:"
   ]
  },
  {
   "cell_type": "markdown",
   "metadata": {},
   "source": [
    "**Liste as diferenças entre uma lista, um dicionário, um array numpy e uma series pandas.**"
   ]
  },
  {
   "cell_type": "markdown",
   "metadata": {},
   "source": [
    "Uma lista é uma sequência ordenadas de elementos, ou seja: O primeiro índice de uma lista é sempre 0, o segundo 1, e\n",
    "assim por diante, e um dicionário é uma Estrutura de Dados em que os elementos são pares (chave:valor), onde a chave identifica um item e armazena seu conteúdo, e existem duas diferenças fundamentais entre os dicionários e as listas:\n",
    "\n",
    "1- Em uma lista, os índices que determinam a posição dos elementos precisam ser inteiros, enquanto em um dicionário os índices podem ser não apenas inteiros, mas também de qualquer tipo básico, como strings.\n",
    "2- A segunda diferença encontra-se no fato de que em um\tdicionário não existe o conceito de ordem, ou seja, ele é uma coleção não ordenada de pares chave:valor.\n",
    "\n",
    "Por essas diferenças, podemos dizer que o Series une o melhor dos dois, pois ela pode ordenar uma sequência ordenada de elementos, como uma lista, e também permite que cada elemento também seja acessado de forma simples e rápida através de um rótulo, similar ao acesso por chaves.\n",
    "\n",
    "A diferença entre o array numpy e uma series pandas, aliás, é a presença do índice: enquanto o array numpy tem um índice definido implicitamente usado para acessar os valores, a series pandas tem um índice explicitamente definido associado aos valores. Essa definição de índice explícita fornece recursos adicionais ao objeto series. Por exemplo, o índice não precisa ser um número inteiro, se desejarmos, podemos usar até strings como um índice."
   ]
  },
  {
   "cell_type": "markdown",
   "metadata": {},
   "source": [
    "## Questão 2:"
   ]
  },
  {
   "cell_type": "markdown",
   "metadata": {},
   "source": [
    "**Reformule a série a seguir em um dataframe com 7 linhas e 5 colunas.**\n",
    "\n",
    "**ser = pd.Series(np.random.randint(1, 10, 35))**"
   ]
  },
  {
   "cell_type": "code",
   "execution_count": null,
   "metadata": {},
   "outputs": [],
   "source": [
    "import pandas as pd\n",
    "import numpy as np\n",
    "ser = pd.Series(np.random.randint(1, 10, 35))\n",
    "ser = pd.DataFrame(ser.values.reshape(7,5))\n",
    "ser"
   ]
  },
  {
   "cell_type": "markdown",
   "metadata": {},
   "source": [
    "## Questão 3:"
   ]
  },
  {
   "cell_type": "markdown",
   "metadata": {},
   "source": [
    "**Importe as colunas ’crim’ e ’medv’ do conjunto de dados do BostonHousing como um dataframe.**"
   ]
  },
  {
   "cell_type": "code",
   "execution_count": null,
   "metadata": {},
   "outputs": [],
   "source": [
    "boston_df = pd.read_csv('https://raw.githubusercontent.com/selva86/datasets/master/BostonHousing.csv',usecols=['crim', 'medv'])   \n",
    "boston_df.head()"
   ]
  },
  {
   "cell_type": "markdown",
   "metadata": {},
   "source": [
    "Escolhi exibir apenas os 5 primeiros dados. Se eu exibisse todos a atividade ficaria desorganizada, já que o conjunto de dados é muito grande."
   ]
  },
  {
   "cell_type": "markdown",
   "metadata": {},
   "source": [
    "## Questão 4:"
   ]
  },
  {
   "cell_type": "markdown",
   "metadata": {},
   "source": [
    "**Renomeie a coluna Type como CarType em df e substitua o ’.’ nos nomes das colunas com ’_’.**"
   ]
  },
  {
   "cell_type": "code",
   "execution_count": null,
   "metadata": {},
   "outputs": [],
   "source": [
    "car_df = pd.read_csv('https://raw.githubusercontent.com/selva86/datasets/master/Cars93_miss.csv')\n",
    "\n",
    "car_df = car_df.rename(columns = {'Type':'CarType'})\n",
    "car_df.columns= car_df.columns.str.replace('.','_',regex=True)\n",
    "\n",
    "car_df.columns"
   ]
  },
  {
   "cell_type": "markdown",
   "metadata": {},
   "source": [
    "Ao final, pode-se ver o nome das colunas com os caracteres substituídos."
   ]
  },
  {
   "cell_type": "markdown",
   "metadata": {},
   "source": [
    "## Questão 5:"
   ]
  },
  {
   "cell_type": "markdown",
   "metadata": {},
   "source": [
    "**Verifique se o dataframe tem algum valor ausente.**\n",
    "\n",
    "**pd.read_csv('https://raw.githubusercontent.com/selva86/datasets/master/Cars93_miss.csv')**"
   ]
  },
  {
   "cell_type": "code",
   "execution_count": null,
   "metadata": {},
   "outputs": [],
   "source": [
    "verif = car_df.isnull().values.any()\n",
    "verif"
   ]
  },
  {
   "cell_type": "markdown",
   "metadata": {},
   "source": [
    "O retorno foi \"True\", então o dataframe possui valores ausentes."
   ]
  },
  {
   "cell_type": "markdown",
   "metadata": {},
   "source": [
    "## Questão 6:"
   ]
  },
  {
   "cell_type": "markdown",
   "metadata": {},
   "source": [
    "**Conte o número de valores ausentes em cada coluna do df . Qual coluna tem o número máximo de valores ausentes?**\n",
    "\n",
    "**pd.read_csv('https://raw.githubusercontent.com/selva86/datasets/master/Cars93_miss.csv')**"
   ]
  },
  {
   "cell_type": "code",
   "execution_count": null,
   "metadata": {},
   "outputs": [],
   "source": [
    "verif = car_df.count().idxmin()\n",
    "print(\"Coluna com o maior número de valores ausentes:\",verif)"
   ]
  },
  {
   "cell_type": "markdown",
   "metadata": {},
   "source": [
    "## Questão 7:"
   ]
  },
  {
   "cell_type": "markdown",
   "metadata": {},
   "source": [
    "**Obtenha a primeira coluna ’a’ em df como um dataframe (em vez de uma série).**\n",
    "\n",
    "**df = pd.DataFrame(np.arange(20).reshape(−1, 5), columns=list('abcde'))**"
   ]
  },
  {
   "cell_type": "code",
   "execution_count": null,
   "metadata": {},
   "outputs": [],
   "source": [
    "df = pd.DataFrame(np.arange(20).reshape(-1, 5), columns=list('abcde'))\n",
    "a = df[['a']]\n",
    "a"
   ]
  },
  {
   "cell_type": "markdown",
   "metadata": {},
   "source": [
    "## Questão 8:"
   ]
  },
  {
   "cell_type": "markdown",
   "metadata": {},
   "source": [
    "**Como alterar a ordem das colunas de um dataframe? Para isso, respondam as três questões:**"
   ]
  },
  {
   "cell_type": "markdown",
   "metadata": {},
   "source": [
    "**Em df, troque as colunas ’a’ e ’c’.**"
   ]
  },
  {
   "cell_type": "code",
   "execution_count": null,
   "metadata": {
    "scrolled": true
   },
   "outputs": [],
   "source": [
    "colunas = ['c','b','a','d','e']\n",
    "df = df.reindex(columns=colunas)\n",
    "df"
   ]
  },
  {
   "cell_type": "markdown",
   "metadata": {},
   "source": [
    "**Crie uma função genérica para trocar duas colunas, sem codificar os nomes das colunas.**"
   ]
  },
  {
   "cell_type": "code",
   "execution_count": null,
   "metadata": {},
   "outputs": [],
   "source": [
    "def altordem(df,c1,c2):\n",
    "    colunas = df.columns.tolist()\n",
    "    l1 = colunas.index(c1) \n",
    "    l2 = colunas.index(c2)\n",
    "    colunas[l2],colunas[l1] = colunas[l1],colunas[l2]\n",
    "    return df.reindex(columns=colunas)\n",
    "altordem(df,'a','c')"
   ]
  },
  {
   "cell_type": "markdown",
   "metadata": {},
   "source": [
    "**Classifique as colunas em ordem alfabética inversa, ou seja, coluna ’e’ primeiro até a coluna ’a’ por último.**"
   ]
  },
  {
   "cell_type": "code",
   "execution_count": null,
   "metadata": {
    "scrolled": true
   },
   "outputs": [],
   "source": [
    "df = df[sorted(df.columns, reverse=True)]\n",
    "df.head()"
   ]
  },
  {
   "cell_type": "markdown",
   "metadata": {},
   "source": [
    "## Questão 9:"
   ]
  },
  {
   "cell_type": "markdown",
   "metadata": {},
   "source": [
    "**Altere as configurações de exibição de Pandas ao imprimir o dataframe df mostre no máximo 10 linhas e 10 colunas.**\n",
    "\n",
    "**pd.read_csv('https://raw.githubusercontent.com/selva86/datasets/master/Cars93_miss.csv')**"
   ]
  },
  {
   "cell_type": "code",
   "execution_count": null,
   "metadata": {},
   "outputs": [],
   "source": [
    "pd.set_option('display.max_rows', 10)\n",
    "pd.set_option('display.max_columns', 10)\n",
    "car_df"
   ]
  },
  {
   "cell_type": "markdown",
   "metadata": {},
   "source": [
    "## Questão 10:"
   ]
  },
  {
   "cell_type": "markdown",
   "metadata": {},
   "source": [
    "**A partir de df , filtre o ’Manufacturer’, ’Model’ e ’Type’ para cada 20 linhas, começando em 1º (linha 0).**\n",
    "\n",
    "**pd.read_csv('https://raw.githubusercontent.com/selva86/datasets/master/Cars93_miss.csv')**"
   ]
  },
  {
   "cell_type": "code",
   "execution_count": null,
   "metadata": {
    "scrolled": true
   },
   "outputs": [],
   "source": [
    "car_df.iloc[::20, :]"
   ]
  },
  {
   "cell_type": "markdown",
   "metadata": {},
   "source": [
    "## Questão 11:"
   ]
  },
  {
   "cell_type": "markdown",
   "metadata": {},
   "source": [
    "**Obtenha as duas últimas linhas de df cuja soma da linha é maior que 100.**\n",
    "\n",
    "**df = pd.DataFrame(np.random.randint(10, 40, 60).reshape(−1, 4))**"
   ]
  },
  {
   "cell_type": "code",
   "execution_count": null,
   "metadata": {},
   "outputs": [],
   "source": [
    "df = pd.DataFrame(np.random.randint(10, 40, 60).reshape(-1, 4))\n",
    "soma = df.apply(np.sum, axis=1)\n",
    "soma2 = pd.DataFrame(soma.iloc[np.where(soma > 100)])\n",
    "soma2.tail(2)"
   ]
  },
  {
   "cell_type": "markdown",
   "metadata": {},
   "source": [
    "## Questão 12:"
   ]
  },
  {
   "cell_type": "markdown",
   "metadata": {},
   "source": [
    "**Troque as linhas 1 e 2 em df.**\n",
    "\n",
    "**df = pd.DataFrame(np.arange(25).reshape(5, −1))**"
   ]
  },
  {
   "cell_type": "code",
   "execution_count": null,
   "metadata": {},
   "outputs": [],
   "source": [
    "df = pd.DataFrame(np.arange(25).reshape(5, -1))\n",
    "df.reindex([0,2,1,3,4])"
   ]
  }
 ],
 "metadata": {
  "kernelspec": {
   "display_name": "Python 3",
   "language": "python",
   "name": "python3"
  },
  "language_info": {
   "codemirror_mode": {
    "name": "ipython",
    "version": 3
   },
   "file_extension": ".py",
   "mimetype": "text/x-python",
   "name": "python",
   "nbconvert_exporter": "python",
   "pygments_lexer": "ipython3",
   "version": "3.7.0"
  }
 },
 "nbformat": 4,
 "nbformat_minor": 2
}
